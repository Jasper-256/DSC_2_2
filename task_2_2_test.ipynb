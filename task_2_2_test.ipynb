{
  "cells": [
    {
      "cell_type": "code",
      "source": [
        "#!/usr/bin/env python3\n",
        "\"\"\"\n",
        "Download & extract the first 16 train files and first 4 test files\n",
        "from the Amar-S/MOVi-MC-AC dataset on Hugging Face.\n",
        "\"\"\"\n",
        "\n",
        "import os\n",
        "import tarfile\n",
        "from huggingface_hub import HfApi, hf_hub_download\n",
        "\n",
        "# — CONFIGURATION —\n",
        "REPO_ID        = \"Amar-S/MOVi-MC-AC\"\n",
        "REPO_TYPE      = \"dataset\"\n",
        "LOCAL_TRAIN_DIR = \"train\"\n",
        "LOCAL_TEST_DIR  = \"test\"\n",
        "NUM_TRAIN = 1\n",
        "NUM_TEST  = 1\n",
        "\n",
        "# — MAKE OUTPUT FOLDERS —\n",
        "os.makedirs(LOCAL_TRAIN_DIR, exist_ok=True)\n",
        "os.makedirs(LOCAL_TEST_DIR,  exist_ok=True)\n",
        "\n",
        "# — LIST ALL FILES IN THE DATASET REPO —\n",
        "api = HfApi()\n",
        "all_files = api.list_repo_files(repo_id=REPO_ID, repo_type=REPO_TYPE)\n",
        "\n",
        "# — FILTER FOR .tar.gz IN train/ AND test/ —\n",
        "train_files = sorted(f for f in all_files if f.startswith(\"train/\") and f.endswith(\".tar.gz\"))[:NUM_TRAIN]\n",
        "test_files  = sorted(f for f in all_files if f.startswith(\"test/\")  and f.endswith(\".tar.gz\"))[:NUM_TEST]\n",
        "\n",
        "def download_and_extract(remote_path: str, out_dir: str):\n",
        "    # Download to cache (returns local path)\n",
        "    local_path = hf_hub_download(\n",
        "        repo_id=REPO_ID,\n",
        "        repo_type=REPO_TYPE,\n",
        "        filename=remote_path\n",
        "    )\n",
        "    # Extract\n",
        "    with tarfile.open(local_path, \"r:gz\") as tf:\n",
        "        tf.extractall(path=out_dir)\n",
        "    print(f\"✔ {remote_path} → {out_dir}/\")\n",
        "\n",
        "# — PROCESS train FILES —\n",
        "print(f\"Downloading {len(train_files)} train files …\")\n",
        "for fn in train_files:\n",
        "    download_and_extract(fn, LOCAL_TRAIN_DIR)\n",
        "\n",
        "# — PROCESS test FILES —\n",
        "print(f\"\\nDownloading {len(test_files)} test files …\")\n",
        "for fn in test_files:\n",
        "    download_and_extract(fn, LOCAL_TEST_DIR)\n",
        "\n",
        "print(\"\\nAll done!\")\n"
      ],
      "metadata": {
        "id": "XmYVjCsbmBSV"
      },
      "id": "XmYVjCsbmBSV",
      "execution_count": null,
      "outputs": []
    },
    {
      "cell_type": "code",
      "source": [
        "!pip install torchmetrics torchvision"
      ],
      "metadata": {
        "id": "ZrYk9Opc4l50"
      },
      "id": "ZrYk9Opc4l50",
      "execution_count": null,
      "outputs": []
    },
    {
      "cell_type": "code",
      "source": [
        "!python3 task_2_2.py"
      ],
      "metadata": {
        "id": "Z4gTySvSiXfk"
      },
      "id": "Z4gTySvSiXfk",
      "execution_count": null,
      "outputs": []
    },
    {
      "cell_type": "code",
      "source": [
        "!zip -r test_video_predictions_2_2.zip test_video_predictions\n",
        "\n",
        "from google.colab import files\n",
        "files.download('test_video_predictions_2_2.zip')"
      ],
      "metadata": {
        "id": "pF-904HnmDlF"
      },
      "id": "pF-904HnmDlF",
      "execution_count": null,
      "outputs": []
    }
  ],
  "metadata": {
    "kernelspec": {
      "display_name": "Python 3",
      "name": "python3"
    },
    "language_info": {
      "codemirror_mode": {
        "name": "ipython",
        "version": 3
      },
      "file_extension": ".py",
      "mimetype": "text/x-python",
      "name": "python",
      "nbconvert_exporter": "python",
      "pygments_lexer": "ipython3",
      "version": "3.10.16"
    },
    "colab": {
      "provenance": [],
      "gpuType": "L4",
      "machine_shape": "hm"
    },
    "accelerator": "GPU"
  },
  "nbformat": 4,
  "nbformat_minor": 5
}